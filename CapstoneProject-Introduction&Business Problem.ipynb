{
    "nbformat_minor": 1, 
    "cells": [
        {
            "source": "# Tea shop location characteristics study\n\n## Introduction\nWhen designing any business, it is necessary to produce a comprehensive study of the necessary success conditions and possible risks. One of this work stages is a study of successfull existing ventures. Identification of patterns in their surrounding may allow to identify criteria conducive to success. \n\nThe number of basic criteria, their weight - all this can not be defined by an expert in advance. Also an important task is to assess the possibility of transferring the results to other locations. This study should provide such metric to all interested parties regarding the location of the tea shop.\n\nFor the city of New York, we will determine the main features of the tea shops work places, and check the correctness of the revealed patterns using the example of Toronto. Successful solution of these tasks will facilitate the expansion of the network of tea shops in New York and other cities, reduce the risks of such operations and identify possible problems.\n\n## Problematics\nIt is required to expand the network of tea shops, for this we need to choose a place in which it will be located. Each of the possible places has its own characteristics. What conditions are key to the success of a new venture? How to estimate how much this place is suitable for a new store? How to compare several available places and choose the best? Answers to these questions should be obtained during this study. \n\nIt is required to understand what features will influence the success of the future venture positively or negatively. To solve the problem, it will be necessary to determine the existing characteristics of the location of tea shops, and to evaluate the characteristics of each of the locations. Each location must be evaluated according to a large number of criteria, some of which are characteristics of the area of location. If you want to be able to assess metric not tied exclusively to New York, then it is necessary to rely on the characteristics that describe the place, instead of being tied directly to it.\n\nAmong the characteristics that you need to pay attention to are:\n* neigbourhood welfare,\n* crime level,\n* ocation availability,\n* competitors,\n* presence of points of attention,\n* etc...\n\nBased on the criteria, it should be possible to compare the results for selecting and ranking possible locations of the new establishment. Therefore, a metric should be created that allows for a numerical evaluation. People not related to the dat\u0430 science, such as a business owner or managers should be able to use this metric.\n\n\n### Target Audience\nThe target audience of this study may include both people who are going to open a new tea shop and owners of existing stores. \u041fhe first ones have at their disposal a set of criteria and a general metric allowing to evaluate the suitability of a place for a new venture. The latter receive an additional tool for a deeper understanding of the current situation of their business.\n\n### Expected Solution\nAs a result of the study, the main criteria that form the current configuration of tea shops should be clarified. The criteria should not be tied to specific areas of New York, but should be determined by the parameters characterizing each area. Criteria should be combined into a common weighted metric, which allows to evaluate the suitability of a particular place for the tea shop, and rank them to select the best.  The criteria and aggregate metric should be applied to Toronto with an assessment of their effectiveness for this city.", 
            "cell_type": "markdown", 
            "metadata": {
                "collapsed": true
            }
        }, 
        {
            "execution_count": null, 
            "cell_type": "code", 
            "metadata": {}, 
            "outputs": [], 
            "source": ""
        }
    ], 
    "metadata": {
        "kernelspec": {
            "display_name": "Python 3.5", 
            "name": "python3", 
            "language": "python"
        }, 
        "language_info": {
            "mimetype": "text/x-python", 
            "nbconvert_exporter": "python", 
            "version": "3.5.5", 
            "name": "python", 
            "file_extension": ".py", 
            "pygments_lexer": "ipython3", 
            "codemirror_mode": {
                "version": 3, 
                "name": "ipython"
            }
        }
    }, 
    "nbformat": 4
}