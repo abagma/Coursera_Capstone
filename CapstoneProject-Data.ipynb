{
    "nbformat_minor": 1, 
    "cells": [
        {
            "source": "# Tea shop location characteristics study\n\n## Data\n\nDuring the study, the focus will be on the data of New York, based on them will be identified the main patterns.\nThis will require access to open sources of information. I will use the information obtained from [NYC Open Data](https://opendata.cityofnewyork.us). It is supposed to use the following data sets.\n\n#### Crimes Statistics\nAvailable from https://data.cityofnewyork.us/Public-Safety/Citywide-Crime-Statistics/c5dk-m6ea link. It contains \\*.xlsx files that can be used to collect per borough data. Data in it is a weekly breakdown of overall citywide crime statistics. Crimes rate can affect venue succes with all possible ways, so it should be in mind during our work. \n\n#### Subway Entrances\nAwailable from https://data.cityofnewyork.us/Transportation/Subway-Entrances/drex-xx56, can be downloaded in the form of json or csv file with coordinates. We will use it determine distance from venue to subway entry/station. Our target data field is \"the_geom\" - entry point coordinates.\n\nIts data structure:\n\n| OBJECTID | URL | NAME | the_geom | LINE |\n|----------|:----|:----:|---------:|-----:|\n| 1734 | http://web.mta.info/nyct/service/ | Birchall Ave & Sagamore St at NW corner | POINT (-73.86835600032798 40.84916900104506) | 2-5 |\n| 1735 | http://web.mta.info/nyct/service/ | Birchall Ave & Sagamore St at NE corner | POINT (-73.86821300022677 40.84912800131844) | 2-5 |\n\n#### Air quality\nWe should check if air quality affects tea shops locations or not, and what regions are acceptable.\nAvailable from https://data.cityofnewyork.us/Environment/Air-Quality/c3uy-2p5r, can be downloaded in \\*.csv file. Contains info about air quality measurements with geo marks attached.\nIts data structure:\n\n| indicator_id |name | Measure | geo_type_name | geo_entity_id | geo_entity_name | year_description| data_valuemessage |\n|--------------|-----|---------|---------------|---------------|-----------------|-----------------|-------------------|\n| 646 | Average Benzene Concentrations | Average Concentration | Borough | 1 | Bronx | 2005 | 2.8 |\n\nWHere `geo_type_name` and `geo_entity_name` will allow us to attach data to previously determined boroughs.\n\n#### Parking availability\nParking lots availability can affect venue popularity.\nData about parking available from https://data.cityofnewyork.us/City-Government/Parking-Lot/h7zy-iq3d, and can be downloaded as \\*.csv file.\n\n| the_geom | SOURCE_ID | FEAT_CODE | SUB_CODE | STATUS | SHAPE_Leng | SHAPE_Area |\n|----------|-----------|-----------|----------|--------|------------|------------|\n| --- | 21,500,000,063 | 5,000 | 500,000 | Unchanged | 403.699787567 | 8,190.74759901 |\n\n\n#### Venues and Surroundings\nWe will use Foursqure API to locate tea shop venues and theirs coordinates. Data will be used to attach venues to other data gathered from open sources. With such case venues data can be joined with previous statistical data. Example of joint data:\n\n|---|Neighborhood | Neighborhood Latitude | Neighborhood Longitude\t| Venue | Venue Latitude | Venue Longitude | Venue Category |\n|---|-------------|-----------------------|-------------------------|-------|----------------|-----------------|----------------|\n| 0\t|The Beaches | 43.676357 | -79.293031 | The Big Carrot Natural Food Market | 43.678879 | -79.297734| Health Food Store|\n| 1\t|The Beaches | 43.676357 | -79.293031 | Grover Pub and Grub\t| 43.679181 | -79.297215 | Pub |\n| 2\t|The Beaches | 43.676357 | -79.293031 | Glen Manor Ravine | 43.676821 | -79.293942 | Trail |\n| 3\t|The Beaches | 43.676357 | -79.293031 | Upper Beaches | 43.680563 | -79.292869 | Neighborhood|\n| 4\t|The Danforth West, Riverdale | 43.679557 | -79.352188 | Pantheon | 43.677621 | -79.351434 | Greek Restaurant |\n\nIt is also can be used to clearify surroundings of target venues, and can help gather additional data.\n", 
            "cell_type": "markdown", 
            "metadata": {
                "collapsed": true
            }
        }, 
        {
            "execution_count": null, 
            "cell_type": "code", 
            "metadata": {}, 
            "outputs": [], 
            "source": ""
        }
    ], 
    "metadata": {
        "kernelspec": {
            "display_name": "Python 3.5", 
            "name": "python3", 
            "language": "python"
        }, 
        "language_info": {
            "mimetype": "text/x-python", 
            "nbconvert_exporter": "python", 
            "version": "3.5.5", 
            "name": "python", 
            "file_extension": ".py", 
            "pygments_lexer": "ipython3", 
            "codemirror_mode": {
                "version": 3, 
                "name": "ipython"
            }
        }
    }, 
    "nbformat": 4
}